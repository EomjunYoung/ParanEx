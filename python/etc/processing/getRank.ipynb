{
 "cells": [
  {
   "cell_type": "code",
   "execution_count": 78,
   "metadata": {},
   "outputs": [
    {
     "name": "stdout",
     "output_type": "stream",
     "text": [
      "발명과특허 56\n",
      "한국어1 40\n",
      "발표와토의 39\n",
      "아주강좌2 30\n",
      "아주강좌1 21\n",
      "아주도전1 17\n",
      "일본어1 16\n",
      "셀프리더십 16\n",
      "태권도 14\n",
      "아주도전2 14\n",
      "범죄와현대사회 14\n",
      "중견기업의이해 13\n",
      "인간관계심리학 11\n",
      "드로잉연습 9\n",
      "테니스1 7\n",
      "이공계열취업역량개발 7\n",
      "생활한문 7\n",
      "골프 7\n",
      "해외문화엿보기 6\n",
      "한국어2 6\n",
      "사회봉사실천2 6\n",
      "미국생활과문화의이해 6\n",
      "테니스2 5\n",
      "일본어2 5\n",
      "영상콘텐츠제작실습 5\n",
      "에어로빅과째즈댄스 5\n",
      "시사영어 5\n",
      "수영 5\n",
      "살아있는미술관 5\n",
      "마음챙김과자기조절 5\n",
      "기후변화와에너지 5\n",
      "합창 4\n",
      "프랑스의문화와예술 4\n",
      "중국어2 4\n",
      "중국사회와문화 4\n",
      "약과건강 4\n",
      "아주도전3 4\n",
      "실용영어연습 4\n",
      "스페인어 4\n",
      "사회봉사이론 4\n",
      "발상과표현 4\n",
      "독일어 4\n",
      "고급한국어독해 4\n",
      "한국어4 3\n",
      "프랑스어권의문화와예술 3\n",
      "창의적글쓰기 3\n",
      "중국어4 3\n",
      "중국어1 3\n",
      "영어구문및작문 3\n",
      "여행독일어 3\n",
      "서양영화사 3\n",
      "살아있는박물관 3\n",
      "사회봉사실천1 3\n",
      "디지털사진실습 3\n",
      "건강기능식품학 3\n",
      "자기이해와진로탐색 2\n",
      "일본어회화 2\n",
      "일본어4 2\n",
      "일본어3 2\n",
      "영어독해및청해 2\n",
      "연극과문화사 2\n",
      "여대생커리어개발2 2\n",
      "여대생커리어개발1 2\n",
      "아주도전4 2\n",
      "생활속한국어규범 2\n",
      "비판적글쓰기 2\n",
      "교육학개론 2\n",
      "강의페어링 2\n",
      "Prephysics 2\n",
      "Precalculus 2\n",
      "\"일 2\n",
      "한국의문화 1\n",
      "한국어3 1\n",
      "중국인의삶과문화 1\n",
      "중국어3 1\n",
      "여행프랑스어 1\n",
      "아주도전9 1\n",
      "아주도전6 1\n",
      "아주도전5 1\n",
      "섹슈얼리티와한국사회 1\n",
      "사고와학습전략 1\n",
      "불어1 1\n",
      "독일명작의이해 1\n",
      "교육철학및교육사 1\n",
      "고급한국어회화 1\n",
      "\"재산 1\n"
     ]
    }
   ],
   "source": [
    "frequency={}\n",
    "file_names = ['2017-2.csv','2017-1.csv','2016-2.csv','2016-1.csv']\n",
    "for file_name in file_names:\n",
    "    with open(file_name, 'r') as csv:\n",
    "        for line in csv:\n",
    "            try:\n",
    "                element = line.strip().split(',')\n",
    "                if element[2][0] == '전':\n",
    "                    continue\n",
    "                if element[2][1] == '필':\n",
    "                    continue\n",
    "                subject = element[1].replace(' ','')\n",
    "                count = frequency.get(subject,0)\n",
    "                frequency[subject] = count+1\n",
    "            except:\n",
    "                pass\n",
    "\n",
    "subject_list = []\n",
    "for subject in frequency:\n",
    "    subject_list.append((frequency[subject],subject))\n",
    "\n",
    "sorted_subject_list = sorted(subject_list,reverse=True)\n",
    "\n",
    "for subject in sorted_subject_list:\n",
    "    print(subject[1],subject[0])"
   ]
  },
  {
   "cell_type": "code",
   "execution_count": null,
   "metadata": {
    "collapsed": true
   },
   "outputs": [],
   "source": []
  },
  {
   "cell_type": "code",
   "execution_count": null,
   "metadata": {
    "collapsed": true
   },
   "outputs": [],
   "source": []
  },
  {
   "cell_type": "code",
   "execution_count": null,
   "metadata": {
    "collapsed": true
   },
   "outputs": [],
   "source": []
  },
  {
   "cell_type": "code",
   "execution_count": null,
   "metadata": {
    "collapsed": true
   },
   "outputs": [],
   "source": []
  },
  {
   "cell_type": "code",
   "execution_count": null,
   "metadata": {
    "collapsed": true
   },
   "outputs": [],
   "source": []
  },
  {
   "cell_type": "code",
   "execution_count": null,
   "metadata": {
    "collapsed": true
   },
   "outputs": [],
   "source": []
  },
  {
   "cell_type": "code",
   "execution_count": null,
   "metadata": {
    "collapsed": true
   },
   "outputs": [],
   "source": []
  },
  {
   "cell_type": "code",
   "execution_count": null,
   "metadata": {
    "collapsed": true
   },
   "outputs": [],
   "source": []
  },
  {
   "cell_type": "code",
   "execution_count": null,
   "metadata": {
    "collapsed": true
   },
   "outputs": [],
   "source": []
  },
  {
   "cell_type": "code",
   "execution_count": null,
   "metadata": {
    "collapsed": true
   },
   "outputs": [],
   "source": []
  },
  {
   "cell_type": "code",
   "execution_count": null,
   "metadata": {
    "collapsed": true
   },
   "outputs": [],
   "source": []
  },
  {
   "cell_type": "code",
   "execution_count": null,
   "metadata": {
    "collapsed": true
   },
   "outputs": [],
   "source": []
  },
  {
   "cell_type": "code",
   "execution_count": null,
   "metadata": {
    "collapsed": true
   },
   "outputs": [],
   "source": []
  },
  {
   "cell_type": "code",
   "execution_count": null,
   "metadata": {
    "collapsed": true
   },
   "outputs": [],
   "source": []
  }
 ],
 "metadata": {
  "kernelspec": {
   "display_name": "Python 3",
   "language": "python",
   "name": "python3"
  },
  "language_info": {
   "codemirror_mode": {
    "name": "ipython",
    "version": 3
   },
   "file_extension": ".py",
   "mimetype": "text/x-python",
   "name": "python",
   "nbconvert_exporter": "python",
   "pygments_lexer": "ipython3",
   "version": "3.6.3"
  }
 },
 "nbformat": 4,
 "nbformat_minor": 2
}
